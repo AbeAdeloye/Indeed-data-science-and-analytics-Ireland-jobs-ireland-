{
  "nbformat": 4,
  "nbformat_minor": 0,
  "metadata": {
    "colab": {
      "name": "COYG",
      "provenance": [],
      "authorship_tag": "ABX9TyM4HGsAAS5K/kYClsshylFL",
      "include_colab_link": true
    },
    "kernelspec": {
      "name": "python3",
      "display_name": "Python 3"
    },
    "language_info": {
      "name": "python"
    }
  },
  "cells": [
    {
      "cell_type": "markdown",
      "metadata": {
        "id": "view-in-github",
        "colab_type": "text"
      },
      "source": [
        "<a href=\"https://colab.research.google.com/github/AbeAdeloye/Indeed-data-science-and-analytics-Ireland-jobs-ireland-/blob/main/COYG.ipynb\" target=\"_parent\"><img src=\"https://colab.research.google.com/assets/colab-badge.svg\" alt=\"Open In Colab\"/></a>"
      ]
    },
    {
      "cell_type": "code",
      "execution_count": 10,
      "metadata": {
        "id": "v8YD3qqEc47Z"
      },
      "outputs": [],
      "source": [
        "import pandas as pd \n",
        "import numpy as np\n",
        "import requests, json, os\n",
        "from bs4 import BeautifulSoup "
      ]
    },
    {
      "cell_type": "code",
      "source": [
        "headers = {\n",
        "        \"User-Agent\": \"Mozilla/5.0 (Windows NT 10.0; Win64; x64) AppleWebKit/537.36 (KHTML, like Gecko) Chrome/100.0.4896.127 Safari/537.36\"\n",
        "    }"
      ],
      "metadata": {
        "id": "pPRJ8SCLdeVk"
      },
      "execution_count": 12,
      "outputs": []
    },
    {
      "cell_type": "code",
      "source": [
        "params = {\n",
        "  \"q\": \"manchester united\",\n",
        "  \"location\": \"austin, texas, united states\",\n",
        "  \"api_key\": \"c351e630c59ba9e96d3c7253716908fabc17fde55fb648ae4b53bb91539b5eab\"\n",
        "}"
      ],
      "metadata": {
        "id": "8spWZEtGmC5C"
      },
      "execution_count": 16,
      "outputs": []
    },
    {
      "cell_type": "code",
      "source": [
        "html = requests.get(\"https://serpapi.com/search.json?q=manchester+united&location=austin,+texas,+united+states\", params=params, headers=headers, timeout=30)"
      ],
      "metadata": {
        "id": "5HMHlfJqdK8E"
      },
      "execution_count": 20,
      "outputs": []
    },
    {
      "cell_type": "code",
      "source": [
        "#pip install google-search-results\n"
      ],
      "metadata": {
        "id": "22yTi3jznUJ0"
      },
      "execution_count": null,
      "outputs": []
    },
    {
      "cell_type": "code",
      "source": [
        "from serpapi import GoogleSearch"
      ],
      "metadata": {
        "id": "cksxTzwSnKRw"
      },
      "execution_count": 23,
      "outputs": []
    },
    {
      "cell_type": "code",
      "source": [
        "search = GoogleSearch(params)\n",
        "results = search.get_dict()\n",
        "sports_results = results[\"sports_results\"]"
      ],
      "metadata": {
        "colab": {
          "base_uri": "https://localhost:8080/"
        },
        "id": "D-AgTvktdB8B",
        "outputId": "5f2b29e3-5857-4dd5-89b2-c312c4baf820"
      },
      "execution_count": 25,
      "outputs": [
        {
          "output_type": "stream",
          "name": "stdout",
          "text": [
            "https://serpapi.com/search\n"
          ]
        }
      ]
    },
    {
      "cell_type": "code",
      "source": [
        "sports_results"
      ],
      "metadata": {
        "id": "hP4FHPQto8dY"
      },
      "execution_count": null,
      "outputs": []
    },
    {
      "cell_type": "code",
      "source": [
        ""
      ],
      "metadata": {
        "id": "inXQCwLFqPJk"
      },
      "execution_count": null,
      "outputs": []
    }
  ]
}